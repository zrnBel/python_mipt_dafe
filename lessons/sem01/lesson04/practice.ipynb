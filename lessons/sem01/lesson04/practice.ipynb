{
 "cells": [
  {
   "cell_type": "markdown",
   "id": "bcda20f5",
   "metadata": {},
   "source": [
    "# Дополнительные темы\n",
    "\n",
    "## Сортировка\n",
    "\n",
    "Сортировка - одна из фундаментальных задач в программировании. Сортировка очень часто используется в различных алгоритмах, поэтому в `Python` существует встроенная функция `sorted()`, для выполнения сортировки.\n",
    "\n",
    "На вход функция `sorted()` ожидает получить любой итерируемый объект. Результат выполнения функции - список, элементы которого отсортированы в порядке возрастания. Очевидно, что все элементы списка должны поддерживать выполнение операции сравнения между собой."
   ]
  },
  {
   "cell_type": "code",
   "execution_count": null,
   "id": "234bed68",
   "metadata": {},
   "outputs": [],
   "source": [
    "numbers_list = [3, -1, 4, -2]\n",
    "numbers_sorted = sorted(numbers_list)\n",
    "print(\n",
    "    f\"list original: {numbers_list}\",\n",
    "    f\"list sorted: {numbers_sorted}\",\n",
    "    sep=\"\\n\",\n",
    ")\n",
    "\n",
    "numbers_tuple = tuple(numbers_list)\n",
    "numbers_sorted = sorted(numbers_tuple)\n",
    "print(\n",
    "    f\"tuple original: {numbers_list}\",\n",
    "    f\"tuple sorted: {numbers_sorted}\",\n",
    "    sep=\"\\n\",\n",
    ")"
   ]
  },
  {
   "cell_type": "markdown",
   "id": "fad69973",
   "metadata": {},
   "source": [
    "По умолчанию функция `sorted()` позволяет отсортировать данные в порядке возрастания. Однако, если вам требуется отсортировать данные в порядке убывания, вы можете связать с необязательным параметром `reverse` значение `True`:"
   ]
  },
  {
   "cell_type": "code",
   "execution_count": null,
   "id": "7eda5bca",
   "metadata": {},
   "outputs": [],
   "source": [
    "sorted([1, 3, 2], reverse=True)"
   ]
  },
  {
   "cell_type": "markdown",
   "id": "56e6e7cf",
   "metadata": {},
   "source": [
    "Обратите внимание, что в результате выполнения `sorted()` **всегда** создается новый список. В случае с изменяемыми типами данных это может быть не очень удобно. Например, на практике часто может потребоваться отсортировать список на месте, не создавая копии. Для этого у списков есть метод `sort()`, который позволяет отсортировать элементы на месте, без создания копии. Метод `sort()` имеет те же параметры, что и функция `sorted()`, за исключением параметра, с которым связывается итерируемый объект."
   ]
  },
  {
   "cell_type": "code",
   "execution_count": null,
   "id": "d9834e12",
   "metadata": {},
   "outputs": [],
   "source": [
    "nums = [3, 1, 4]\n",
    "nums.sort()\n",
    "print(nums)"
   ]
  },
  {
   "cell_type": "markdown",
   "id": "39635f64",
   "metadata": {},
   "source": [
    "## Последовательности и оператор =\n",
    "\n",
    "### Повторение\n",
    "\n",
    "Напоминаем, что оператор привязки `=` используется в `Python` для связывания указателей на объекты в памяти с идентификаторами. В самом простом варианте этот оператор используется так:"
   ]
  },
  {
   "cell_type": "code",
   "execution_count": null,
   "id": "ed9f3788",
   "metadata": {},
   "outputs": [],
   "source": [
    "num1 = 1000\n",
    "num2 = num1\n",
    "print(f\"{num1 = }; {num2 = };\")"
   ]
  },
  {
   "cell_type": "markdown",
   "id": "d5f45ea4",
   "metadata": {},
   "source": [
    "Не стоит забывать, что если справа от оператора `=` находится идентификатор, то новый объект в памяти создан не будет. После выполнения привязки идентификатор, находившийся слева от знака `=`, будет связан с новой ссылкой на уже существующий объект в памяти. Таким образом объекты `num1` и `num2` указывают на один и тот же объект в памяти."
   ]
  },
  {
   "cell_type": "code",
   "execution_count": null,
   "id": "55b52a34",
   "metadata": {},
   "outputs": [],
   "source": [
    "if num1 is num2:\n",
    "    print(\"num1 and num2 are the same\")\n",
    "\n",
    "else:\n",
    "    print(\"num1 and num2 are different\")"
   ]
  },
  {
   "cell_type": "markdown",
   "id": "b69a7fd9",
   "metadata": {},
   "source": [
    "Этот факт особенно важно помнить при работе с объектами изменяемых типов данных. Если забыть об этой особенности работы с переменными в `Python`, можно спокойно создать себе кучу неприятностей на ровном месте:"
   ]
  },
  {
   "cell_type": "code",
   "execution_count": null,
   "id": "58c9b544",
   "metadata": {},
   "outputs": [],
   "source": [
    "lst1 = [1, 2]\n",
    "lst2 = lst1\n",
    "lst2[-1] = 42\n",
    "\n",
    "print(\n",
    "    f\"{lst1 = };\",\n",
    "    f\"{lst2 = };\",\n",
    "    sep=\"\\n\",\n",
    ")"
   ]
  },
  {
   "cell_type": "markdown",
   "id": "059872a6",
   "metadata": {},
   "source": [
    "В данном примере во время определения переменной `lst1` мы не создали нового списка в памяти, а всего лишь создали новую ссылку на уже существующий список. Таким образом `lst1` и `lst2` связаны со ссылками на один и тот же объект в памяти. Поскольку списки - изменяемые объекты, мы можем вносить изменения, используя обе ссылки: `lst1` и `lst2`. Нельзя независимо изменять один и тот же объект в памяти, используя две разные ссылки на него."
   ]
  },
  {
   "cell_type": "markdown",
   "id": "88b7076a",
   "metadata": {},
   "source": [
    "### Цепное привязывание\n",
    "\n",
    "На практике нередко встречаются ситуации, когда необходимо связать одно и то же значение с несколькими переменными. Например, перед выполнением некоторого алгоритма вам может потребоваться проинициализировать несколько переменных нулем. Как это можно сделать? Самый очевидный способ выглядит так:"
   ]
  },
  {
   "cell_type": "code",
   "execution_count": null,
   "id": "eb2b3166",
   "metadata": {},
   "outputs": [],
   "source": [
    "num1 = 0\n",
    "num2 = 0\n",
    "num3 = 0\n",
    "\n",
    "print(f\"{num1 = }; {num2 = }; {num3 = }\")"
   ]
  },
  {
   "cell_type": "markdown",
   "id": "78ba49fa",
   "metadata": {},
   "source": [
    "Однако, для таких случаев существует более удобный способ привязки: *цепная привязка*."
   ]
  },
  {
   "cell_type": "code",
   "execution_count": null,
   "id": "9e6943ef",
   "metadata": {},
   "outputs": [],
   "source": [
    "num1 = num2 = num3 = 0\n",
    "print(f\"{num1 = }; {num2 = }; {num3 = }\")"
   ]
  },
  {
   "cell_type": "markdown",
   "id": "b01691a9",
   "metadata": {},
   "source": [
    "### Распаковка (Unpacking)\n",
    "\n",
    "Мы поняли, как поступить в случае, если нужно связать одно и то же значение с несколькими переменными. Но как быть, если нужно связать разные значения с разными переменными? Неужели придется неэкономно определять переменные на отдельных физических строках?"
   ]
  },
  {
   "cell_type": "code",
   "execution_count": null,
   "id": "081c1797",
   "metadata": {},
   "outputs": [],
   "source": [
    "num1 = 34\n",
    "num2 = 42\n",
    "num3 = 69\n",
    "\n",
    "print(f\"{num1 = }; {num2 = }; {num3 = }\")"
   ]
  },
  {
   "cell_type": "markdown",
   "id": "08d52745",
   "metadata": {},
   "source": [
    "На самом деле и на этот случай мы можем воспользоваться специальным трюком:"
   ]
  },
  {
   "cell_type": "code",
   "execution_count": null,
   "id": "9cf25936",
   "metadata": {},
   "outputs": [],
   "source": [
    "num1, num2, num3 = 34, 42, 69\n",
    "print(f\"{num1 = }; {num2 = }; {num3 = }\")"
   ]
  },
  {
   "cell_type": "markdown",
   "id": "b6b47c53",
   "metadata": {},
   "source": [
    "Эта запись гораздо компактнее. Однако не стоит ею злоупотреблять, иначе вы рискуете нанести урон читабельности вашего кода.\n",
    "\n",
    "На самом деле то, что мы видим в примере выше - это комбинация особенностей оператора `=` и итерируемых объектов. Вот что произошло в этом примере:\n",
    "\n",
    "- Справа от оператора `=` был определен кортеж с помощью литерала `34, 42, 69`.\n",
    "- Слева от оператора `=` были перечислены идентификаторы через запятую. Перечисление идентификаторов подсказывает интерпретатору `Python`, что он должен проитерироваться по объекту справа от оператора `=` и связать каждый идентификатор слева с соответствующим элементом итерируемого объекта.\n",
    "- Интерпретатор выполняет связывания идентификаторов с соответствующими элементами.\n",
    "\n",
    "Эти особенности удобно использовать для одновременного \"обемена\" значениями: "
   ]
  },
  {
   "cell_type": "code",
   "execution_count": null,
   "id": "b222b8a5",
   "metadata": {},
   "outputs": [],
   "source": [
    "num1, num2 = 1, 1\n",
    "\n",
    "for _ in range(5):\n",
    "    print(f\"{num1 = }; {num2 = }\")\n",
    "    num1, num2 = num2, num1 + num2"
   ]
  },
  {
   "cell_type": "markdown",
   "id": "f24d0afa",
   "metadata": {},
   "source": [
    "Важно, что если слева находится несколько идентификаторов, перечисленных через запятую, справа должен находиться итерируемый объект. С противном случае, вы получите ошибку:"
   ]
  },
  {
   "cell_type": "code",
   "execution_count": null,
   "id": "d032b921",
   "metadata": {},
   "outputs": [],
   "source": [
    "num1, num2 = 42"
   ]
  },
  {
   "cell_type": "markdown",
   "id": "be529ff7",
   "metadata": {},
   "source": [
    "Обращаем ваше внимание, что `Python` позволяет распаковывать любой итерируемый объект, а не только кортежи:"
   ]
  },
  {
   "cell_type": "code",
   "execution_count": null,
   "id": "cf25d052",
   "metadata": {},
   "outputs": [],
   "source": [
    "coord_x, coord_y, coord_z = [1, 2, 3]\n",
    "print(f\"{coord_x = }; {coord_y = }; {coord_z = }\")"
   ]
  },
  {
   "cell_type": "markdown",
   "id": "117f0d09",
   "metadata": {},
   "source": [
    "### Запаковка\n",
    "\n",
    "В случае, когда вам необходимо распаковать итерируемый объект, но вы не уверены, сколько элементов в нем содержится, вы можете столкнуться с ошибкой:"
   ]
  },
  {
   "cell_type": "code",
   "execution_count": null,
   "id": "beab94ad",
   "metadata": {},
   "outputs": [],
   "source": [
    "tag_start, tag_end = [\"init\", \"<body>\", \"stop\"]"
   ]
  },
  {
   "cell_type": "markdown",
   "id": "6e233185",
   "metadata": {},
   "source": [
    "Если вы знаете наверняка, что итерируемый объект содержит не меньше определенного количества значений, и вас интересуют значения конкретных элементов (например, первого и последнего), вы можете запаковать оставшиеся элементы в список:"
   ]
  },
  {
   "cell_type": "code",
   "execution_count": null,
   "id": "73570d68",
   "metadata": {},
   "outputs": [],
   "source": [
    "tag_start, *messages, tag_end = [\"init\", \"<body>\", \"stop\"]\n",
    "print(f\"{tag_start = }; {messages = }; {tag_end = }\")\n",
    "\n",
    "tag_start, *messages, tag_end = [\"init\", \"stop\"]\n",
    "print(f\"{tag_start = }; {messages = }; {tag_end = }\")\n",
    "\n",
    "tag_start, *messages, tag_end = [\"init\", \"<part1>\", \"<part2>\", \"stop\"]\n",
    "print(f\"{tag_start = }; {messages = }; {tag_end = }\")"
   ]
  },
  {
   "cell_type": "markdown",
   "id": "35cc879b",
   "metadata": {},
   "source": [
    "## Моржовый оператор\n",
    "\n",
    "В `Python` 3.8 появился новый оператор `:=` (точки - это глаза, а `=` - это бивни, поэтому морж). Этот оператор решает проблему невозможности использовать операцию привязки там, где требуется получить некоторое значение. Т.е. фактически моржовые оператор превращает операцию привязки в выражение. С его помощью вы можете одновременно связать идентификатор с каким-либо значением и получить значение, с которым происходило связывание, в качестве результата выполнения операции. Это может быть полезно, если мы получаем какое-то значение из функции и хотим  использовать его как в заголовках управляющих конструкций, так и далее в коде.\n",
    "\n",
    "Без использования `:=`:"
   ]
  },
  {
   "cell_type": "code",
   "execution_count": null,
   "id": "042d0c44",
   "metadata": {},
   "outputs": [],
   "source": [
    "from http import HTTPStatus\n",
    "\n",
    "\n",
    "def make_request() -> int:\n",
    "    return HTTPStatus.OK\n",
    "\n",
    "\n",
    "status = make_request()\n",
    "\n",
    "if HTTPStatus.BAD_REQUEST <= status:\n",
    "    print(f\"got bad response with status: {status}\")\n",
    "\n",
    "result = {\"status\": status}"
   ]
  },
  {
   "cell_type": "markdown",
   "id": "0bf44e29",
   "metadata": {},
   "source": [
    "С использованием `:=`:"
   ]
  },
  {
   "cell_type": "code",
   "execution_count": null,
   "id": "a46cd6b0",
   "metadata": {},
   "outputs": [],
   "source": [
    "from http import HTTPStatus\n",
    "\n",
    "\n",
    "def make_request() -> int:\n",
    "    return HTTPStatus.OK\n",
    "\n",
    "\n",
    "if HTTPStatus.BAD_REQUEST <= (status := make_request()):\n",
    "    print(f\"got bad response with status: {status}\")\n",
    "\n",
    "result = {\"status\": status}"
   ]
  },
  {
   "cell_type": "markdown",
   "id": "c2099dd0",
   "metadata": {},
   "source": [
    "Не забывайте использовать скобки `()` вокруг оперетора, так как у него низкий приоритет выполнения."
   ]
  },
  {
   "cell_type": "markdown",
   "id": "9a4c58f9",
   "metadata": {},
   "source": []
  }
 ],
 "metadata": {
  "kernelspec": {
   "display_name": "Python 3",
   "language": "python",
   "name": "python3"
  },
  "language_info": {
   "codemirror_mode": {
    "name": "ipython",
    "version": 3
   },
   "file_extension": ".py",
   "mimetype": "text/x-python",
   "name": "python",
   "nbconvert_exporter": "python",
   "pygments_lexer": "ipython3",
   "version": "3.11.1"
  }
 },
 "nbformat": 4,
 "nbformat_minor": 5
}
